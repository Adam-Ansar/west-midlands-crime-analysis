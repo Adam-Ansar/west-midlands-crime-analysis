{
 "cells": [
  {
   "cell_type": "markdown",
   "id": "45d4a50c",
   "metadata": {},
   "source": [
    "# Dataset Limitations\n",
    "\n",
    "> **Note:** The analysis of West Midlands crime data (June 2024 – July 2025) provides valuable insights, but several limitations affect the reliability and depth of conclusions. Understanding these constraints is crucial for interpreting the results.\n",
    "\n",
    "---\n",
    "\n",
    "## 1. 🕳️ Missing and Incomplete Data\n",
    "\n",
    "- **Unrecorded Outcomes:** Many crimes are marked as “Outcome not recorded” or remain under investigation at the time of data release, limiting the completeness of outcome analysis.\n",
    "- **Reporting Delays:** Time lags between crime occurrence, reporting, and outcome updates can make recent months appear artificially low.\n",
    "\n",
    "---\n",
    "\n",
    "## 2. 📉 Reporting Bias\n",
    "\n",
    "- **Underreporting:** Only crimes reported to West Midlands Police are included. Certain crimes (e.g., domestic abuse, petty theft) are often underreported.\n",
    "- **Anonymisation:** Sensitive details are removed for privacy, resulting in anonymised or simplified records that restrict deeper analysis.\n",
    "\n",
    "---\n",
    "\n",
    "## 3. 🗺️ Location Granularity\n",
    "\n",
    "- **Vague Locations:** Many records are listed as “On or near…” a road or landmark, reducing location precision.\n",
    "- **Limited Detail:** Data is available only at LSOA or street-level, preventing analysis at exact addresses or micro-locations.\n",
    "\n",
    "---\n",
    "\n",
    "## 4. 👥 Lack of Demographic and Contextual Data\n",
    "\n",
    "- **No Demographics:** The dataset lacks information on age, gender, or ethnicity of victims and suspects.\n",
    "- **Missing Context:** Factors like time of day, weather, or socio-economic conditions are not included, limiting exploration of underlying causes.\n",
    "\n",
    "---\n",
    "\n",
    "## 5. ⚠️ Data Quality Issues\n",
    "\n",
    "- **Administrative Errors:** Risks include duplicate records, inconsistent crime classification, and manual entry mistakes.\n",
    "- **Changing Categories:** Updates in crime definitions or recording practices can complicate year-on-year comparisons.\n",
    "\n",
    "---\n",
    "\n",
    "## 6. ❓ Outcome Ambiguity\n",
    "\n",
    "- **Broad Categories:** Outcomes such as “Unable to prosecute suspect” or “Investigation complete; no suspect identified” are technically different but similarly indicate unresolved cases, making detailed outcome analysis challenging.\n",
    "\n",
    "---\n",
    "\n",
    "## **Conclusion**\n",
    "\n",
    "While the dataset is excellent for identifying high-level trends such as seasonal changes, common crime types, and general hotspots, it has significant gaps in detail and context. Results should be viewed as **directional insights** rather than precise truths. The data is best suited for broad pattern recognition and policy discussions, not for case-by-case decision making."
   ]
  }
 ],
 "metadata": {
  "language_info": {
   "name": "python"
  }
 },
 "nbformat": 4,
 "nbformat_minor": 5
}
