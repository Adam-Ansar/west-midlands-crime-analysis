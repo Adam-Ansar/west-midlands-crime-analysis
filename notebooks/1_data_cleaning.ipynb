{
 "cells": [
  {
   "cell_type": "markdown",
   "id": "6cb0f03b",
   "metadata": {},
   "source": [
    "# West Midlands Crime Analysis – Notebook 1\n",
    "\n",
    "This notebook performs an exploratory analysis of West Midlands Police \n",
    "street-level crime data (Aug 2022 – Jul 2025).  \n",
    "\n",
    "## Notebooks Roadmap\n",
    "1. **Notebook 1:** Data preparation & cleaning – combine monthly files, handle missing values, remove duplicates, standardize formats  \n",
    "2. **Notebook 3:** Exploratory Data Analysis (EDA) – summary statistics, crime by type  \n",
    "3. **Notebook 4:** Visualisation – time series trends and crime category breakdown  \n",
    "4. **Notebook 5:** Insights & limitations\n"
   ]
  },
  {
   "cell_type": "code",
   "execution_count": 1,
   "id": "03b3e364",
   "metadata": {},
   "outputs": [
    {
     "name": "stdout",
     "output_type": "stream",
     "text": [
      "Loaded 14 files. Combined shape: (392363, 12)\n",
      "Combined CSV saved to ../data/processed/combined.csv\n"
     ]
    }
   ],
   "source": [
    "# Merge multiple CSV files from a folder into a single DataFrame and save it.\n",
    "import pandas as pd\n",
    "import glob\n",
    "import os\n",
    "\n",
    "# Path to the raw data folder\n",
    "data_folder = '../data/raw'\n",
    "# Get all CSV files in the folder\n",
    "csv_files = glob.glob(os.path.join(data_folder, '*.csv'))\n",
    "\n",
    "# Load and merge all CSVs\n",
    "df_list = [pd.read_csv(f) for f in csv_files]\n",
    "combined_df = pd.concat(df_list, ignore_index=True)\n",
    "\n",
    "print(f\"Loaded {len(csv_files)} files. Combined shape: {combined_df.shape}\")\n",
    "\n",
    "# Save combined DataFrame to processed section\n",
    "processed_path = '../data/processed/combined.csv'\n",
    "combined_df.to_csv(processed_path, index=False)\n",
    "print(f\"Combined CSV saved to {processed_path}\")"
   ]
  },
  {
   "cell_type": "code",
   "execution_count": 4,
   "id": "496bcd53",
   "metadata": {},
   "outputs": [
    {
     "name": "stdout",
     "output_type": "stream",
     "text": [
      "<class 'pandas.core.frame.DataFrame'>\n",
      "RangeIndex: 392363 entries, 0 to 392362\n",
      "Data columns (total 12 columns):\n",
      " #   Column                 Non-Null Count   Dtype  \n",
      "---  ------                 --------------   -----  \n",
      " 0   Crime ID               358449 non-null  object \n",
      " 1   Month                  392363 non-null  object \n",
      " 2   Reported by            392363 non-null  object \n",
      " 3   Falls within           392363 non-null  object \n",
      " 4   Longitude              392363 non-null  float64\n",
      " 5   Latitude               392363 non-null  float64\n",
      " 6   Location               392363 non-null  object \n",
      " 7   LSOA code              392363 non-null  object \n",
      " 8   LSOA name              392363 non-null  object \n",
      " 9   Crime type             392363 non-null  object \n",
      " 10  Last outcome category  358449 non-null  object \n",
      " 11  Context                0 non-null       float64\n",
      "dtypes: float64(3), object(9)\n",
      "memory usage: 35.9+ MB\n"
     ]
    },
    {
     "data": {
      "text/plain": [
       "Crime ID                  33914\n",
       "Month                         0\n",
       "Reported by                   0\n",
       "Falls within                  0\n",
       "Longitude                     0\n",
       "Latitude                      0\n",
       "Location                      0\n",
       "LSOA code                     0\n",
       "LSOA name                     0\n",
       "Crime type                    0\n",
       "Last outcome category     33914\n",
       "Context                  392363\n",
       "dtype: int64"
      ]
     },
     "execution_count": 4,
     "metadata": {},
     "output_type": "execute_result"
    }
   ],
   "source": [
    "# Exploratory Data Analysis (EDA)\n",
    "\n",
    "# Ensure combined_df is loaded\n",
    "if 'combined_df' not in locals():\n",
    "\tcombined_df = pd.read_csv('../data/processed/cleaned_crime.csv')\n",
    "\n",
    "# Inspect the data\n",
    "combined_df.info()\n",
    "combined_df.head()\n",
    "combined_df.isna().sum()"
   ]
  },
  {
   "cell_type": "markdown",
   "id": "e99422da",
   "metadata": {},
   "source": [
    "### Dataset structure & quality\n",
    "\n",
    "The dataset contains 392,363 rows and 12 columns, covering June 2024 – July 2025.  \n",
    "Key points:\n",
    "- Columns such as `Longitude`, `Latitude`, and `Crime type` are complete.  \n",
    "- `Crime ID` and `Last outcome category` are missing in ~34k rows. This is expected, since not all crimes have an outcome recorded at the time of publication.  \n",
    "- `Context` is completely empty and can be dropped.  \n",
    "- The `Month` column is currently stored as text and will be converted to datetime for analysis.\n"
   ]
  },
  {
   "cell_type": "code",
   "execution_count": 5,
   "id": "4d0f169d",
   "metadata": {},
   "outputs": [],
   "source": [
    "# Data manipulation \n",
    "\n",
    "# Drop context column as it's empty\n",
    "combined_df = combined_df.drop(columns=[\"Context\"])\n"
   ]
  },
  {
   "cell_type": "code",
   "execution_count": 6,
   "id": "92e2689d",
   "metadata": {},
   "outputs": [],
   "source": [
    "# Convert 'Month' to datetime\n",
    "combined_df[\"Month\"] = pd.to_datetime(combined_df[\"Month\"])\n"
   ]
  },
  {
   "cell_type": "code",
   "execution_count": 7,
   "id": "b44cb71c",
   "metadata": {},
   "outputs": [],
   "source": [
    "# Remove duplicates across CSVs\n",
    "combined_df = combined_df.drop_duplicates()\n"
   ]
  },
  {
   "cell_type": "code",
   "execution_count": 9,
   "id": "48dc6e81",
   "metadata": {},
   "outputs": [],
   "source": [
    "# Create additional time-based columns for analysis\n",
    "\n",
    "# Ensure Month is datetime\n",
    "combined_df[\"Month\"] = pd.to_datetime(combined_df[\"Month\"])\n",
    "\n",
    "# Year as number (2024, 2025…)\n",
    "combined_df[\"Year\"] = combined_df[\"Month\"].dt.year\n",
    "\n",
    "# Month name (Jan, Feb…)\n",
    "combined_df[\"MonthName\"] = combined_df[\"Month\"].dt.month_name()\n",
    "\n",
    "# Month number (1–12, keeps sorting correct)\n",
    "combined_df[\"MonthNum\"] = combined_df[\"Month\"].dt.month\n",
    "\n",
    "# Season grouping months into Winter/Spring/Summer/Autumn\n",
    "season_map = {\n",
    "    12: \"Winter\", 1: \"Winter\", 2: \"Winter\",\n",
    "    3: \"Spring\", 4: \"Spring\", 5: \"Spring\",\n",
    "    6: \"Summer\", 7: \"Summer\", 8: \"Summer\",\n",
    "    9: \"Autumn\", 10: \"Autumn\", 11: \"Autumn\"\n",
    "}\n",
    "combined_df[\"Season\"] = combined_df[\"Month\"].dt.month.map(season_map)\n"
   ]
  },
  {
   "cell_type": "code",
   "execution_count": 10,
   "id": "c08921c2",
   "metadata": {},
   "outputs": [
    {
     "name": "stdout",
     "output_type": "stream",
     "text": [
      "<class 'pandas.core.frame.DataFrame'>\n",
      "Index: 384676 entries, 0 to 392362\n",
      "Data columns (total 15 columns):\n",
      " #   Column                 Non-Null Count   Dtype         \n",
      "---  ------                 --------------   -----         \n",
      " 0   Crime ID               358449 non-null  object        \n",
      " 1   Month                  384676 non-null  datetime64[ns]\n",
      " 2   Reported by            384676 non-null  object        \n",
      " 3   Falls within           384676 non-null  object        \n",
      " 4   Longitude              384676 non-null  float64       \n",
      " 5   Latitude               384676 non-null  float64       \n",
      " 6   Location               384676 non-null  object        \n",
      " 7   LSOA code              384676 non-null  object        \n",
      " 8   LSOA name              384676 non-null  object        \n",
      " 9   Crime type             384676 non-null  object        \n",
      " 10  Last outcome category  358449 non-null  object        \n",
      " 11  Year                   384676 non-null  int32         \n",
      " 12  MonthName              384676 non-null  object        \n",
      " 13  MonthNum               384676 non-null  int32         \n",
      " 14  Season                 384676 non-null  object        \n",
      "dtypes: datetime64[ns](1), float64(2), int32(2), object(10)\n",
      "memory usage: 44.0+ MB\n"
     ]
    }
   ],
   "source": [
    "# Final data check\n",
    "combined_df.info()\n"
   ]
  },
  {
   "cell_type": "code",
   "execution_count": null,
   "id": "13b981c9",
   "metadata": {},
   "outputs": [],
   "source": [
    "# Save cleaned combined DataFrame\n",
    "cleaned_path = '../data/processed/cleaned_crime.csv'\n",
    "combined_df.to_csv(cleaned_path, index=False)\n",
    "print(f\"Cleaned data saved to {cleaned_path}\")\n"
   ]
  },
  {
   "cell_type": "markdown",
   "id": "cda2aee2",
   "metadata": {},
   "source": [
    "### Data Cleaning & Manipulation\n",
    "\n",
    "Before analysis, we cleaned and enhanced the dataset to make it easier to work with:\n",
    "\n",
    "- Dropped the `Context` column, since it was completely empty.  \n",
    "- Converted the `Month` column from text to a proper datetime format for accurate grouping and time-series analysis.  \n",
    "- Removed duplicate rows to ensure crime records are not double-counted.  \n",
    "- Added helper columns:\n",
    "  - `Year` → for year-based grouping (2024, 2025).  \n",
    "  - `MonthName` and `MonthNum` → to analyse crime patterns by calendar month.  \n",
    "  - `Season` → to explore seasonal crime trends (Winter, Spring, Summer, Autumn).  \n",
    "- Filled missing outcome values in `Last outcome category` with `\"Outcome not recorded\"`, so they can be included in counts rather than dropped.\n",
    "\n",
    "These transformations ensure the dataset is clean, consistent, and ready for deeper analysis and visualisation."
   ]
  }
 ],
 "metadata": {
  "kernelspec": {
   "display_name": ".venv",
   "language": "python",
   "name": "python3"
  },
  "language_info": {
   "codemirror_mode": {
    "name": "ipython",
    "version": 3
   },
   "file_extension": ".py",
   "mimetype": "text/x-python",
   "name": "python",
   "nbconvert_exporter": "python",
   "pygments_lexer": "ipython3",
   "version": "3.13.2"
  }
 },
 "nbformat": 4,
 "nbformat_minor": 5
}
