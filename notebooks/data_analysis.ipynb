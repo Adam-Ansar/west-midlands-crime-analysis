{
 "cells": [
  {
   "cell_type": "markdown",
   "id": "6cb0f03b",
   "metadata": {},
   "source": [
    "# West Midlands Crime Analysis – Notebook 1\n",
    "\n",
    "This notebook performs an exploratory analysis of West Midlands Police \n",
    "street-level crime data (Aug 2022 – Jul 2025).  \n",
    "\n",
    "## Notebook Roadmap\n",
    "1. Data preparation – combine and clean monthly files\n",
    "2. Data cleaning – handle missing values, remove duplicates, standardize formats\n",
    "3. Exploratory Data Analysis (EDA) – summary statistics, crime by type\n",
    "4. Visualisation – time series trends and crime category breakdown\n",
    "5. Insights & limitations\n"
   ]
  },
  {
   "cell_type": "code",
   "execution_count": 2,
   "id": "03b3e364",
   "metadata": {},
   "outputs": [
    {
     "name": "stdout",
     "output_type": "stream",
     "text": [
      "Loaded 14 files. Combined shape: (392363, 12)\n",
      "Combined CSV saved to ../data/processed/combined.csv\n",
      "Combined CSV saved to ../data/processed/combined.csv\n"
     ]
    }
   ],
   "source": [
    "import pandas as pd\n",
    "import glob\n",
    "import os\n",
    "\n",
    "# Path to the raw data folder\n",
    "data_folder = '../data/raw'\n",
    "# Get all CSV files in the folder\n",
    "csv_files = glob.glob(os.path.join(data_folder, '*.csv'))\n",
    "\n",
    "# Load and concatenate all CSVs\n",
    "df_list = [pd.read_csv(f) for f in csv_files]\n",
    "combined_df = pd.concat(df_list, ignore_index=True)\n",
    "\n",
    "print(f\"Loaded {len(csv_files)} files. Combined shape: {combined_df.shape}\")\n",
    "\n",
    "# Save combined DataFrame to processed section\n",
    "processed_path = '../data/processed/combined.csv'\n",
    "combined_df.to_csv(processed_path, index=False)\n",
    "print(f\"Combined CSV saved to {processed_path}\")"
   ]
  },
  {
   "cell_type": "code",
   "execution_count": null,
   "id": "496bcd53",
   "metadata": {},
   "outputs": [],
   "source": []
  }
 ],
 "metadata": {
  "kernelspec": {
   "display_name": ".venv",
   "language": "python",
   "name": "python3"
  },
  "language_info": {
   "codemirror_mode": {
    "name": "ipython",
    "version": 3
   },
   "file_extension": ".py",
   "mimetype": "text/x-python",
   "name": "python",
   "nbconvert_exporter": "python",
   "pygments_lexer": "ipython3",
   "version": "3.13.2"
  }
 },
 "nbformat": 4,
 "nbformat_minor": 5
}
